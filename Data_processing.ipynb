{
 "cells": [
  {
   "cell_type": "markdown",
   "metadata": {
    "id": "pOyqYHTk_Q57"
   },
   "source": [
    "## Importing the libraries"
   ]
  },
  {
   "cell_type": "code",
   "execution_count": 2,
   "metadata": {
    "id": "T_YHJjnD_Tja"
   },
   "outputs": [],
   "source": [
    "import numpy as np\n",
    "import matplotlib.pyplot as plt\n",
    "import pandas as pd\n",
    "import numpy as np\n",
    "import pandas as pd\n",
    "import matplotlib.pyplot as plt\n",
    "import seaborn as sns\n",
    "import os\n",
    "import scipy as sp\n",
    "import warnings\n",
    "import datetime\n",
    "from scipy.stats import pearsonr\n",
    "from sklearn.metrics import explained_variance_score\n",
    "warnings.filterwarnings(\"ignore\")\n",
    "%matplotlib inline\n"
   ]
  },
  {
   "cell_type": "markdown",
   "metadata": {
    "id": "vgC61-ah_WIz"
   },
   "source": [
    "## Importing the dataset"
   ]
  },
  {
   "cell_type": "code",
   "execution_count": 3,
   "metadata": {
    "id": "UrxyEKGn_ez7"
   },
   "outputs": [],
   "source": [
    "data = pd.read_csv('data.csv')\n"
   ]
  },
  {
   "cell_type": "code",
   "execution_count": 4,
   "metadata": {
    "colab": {
     "base_uri": "https://localhost:8080/",
     "height": 357
    },
    "id": "GOB3QhV9B5kD",
    "outputId": "cce489b3-e8ca-4788-c826-20d46dbe8efd"
   },
   "outputs": [
    {
     "data": {
      "text/html": [
       "\n",
       "  <div id=\"df-d93c69e4-c9f6-4163-b81f-3412f9b7a3fe\">\n",
       "    <div class=\"colab-df-container\">\n",
       "      <div>\n",
       "<style scoped>\n",
       "    .dataframe tbody tr th:only-of-type {\n",
       "        vertical-align: middle;\n",
       "    }\n",
       "\n",
       "    .dataframe tbody tr th {\n",
       "        vertical-align: top;\n",
       "    }\n",
       "\n",
       "    .dataframe thead th {\n",
       "        text-align: right;\n",
       "    }\n",
       "</style>\n",
       "<table border=\"1\" class=\"dataframe\">\n",
       "  <thead>\n",
       "    <tr style=\"text-align: right;\">\n",
       "      <th></th>\n",
       "      <th>Mileage</th>\n",
       "      <th>Make</th>\n",
       "      <th>Model</th>\n",
       "      <th>Trim</th>\n",
       "      <th>Type</th>\n",
       "      <th>Cylinder</th>\n",
       "      <th>Liter</th>\n",
       "      <th>Doors</th>\n",
       "      <th>Cruise</th>\n",
       "      <th>Sound</th>\n",
       "      <th>Leather</th>\n",
       "      <th>Price</th>\n",
       "    </tr>\n",
       "  </thead>\n",
       "  <tbody>\n",
       "    <tr>\n",
       "      <th>0</th>\n",
       "      <td>8221</td>\n",
       "      <td>Buick</td>\n",
       "      <td>Century</td>\n",
       "      <td>Sedan 4D</td>\n",
       "      <td>Sedan</td>\n",
       "      <td>6</td>\n",
       "      <td>3.1</td>\n",
       "      <td>4</td>\n",
       "      <td>1</td>\n",
       "      <td>1</td>\n",
       "      <td>1</td>\n",
       "      <td>17314.10313</td>\n",
       "    </tr>\n",
       "    <tr>\n",
       "      <th>1</th>\n",
       "      <td>9135</td>\n",
       "      <td>Buick</td>\n",
       "      <td>Century</td>\n",
       "      <td>Sedan 4D</td>\n",
       "      <td>Sedan</td>\n",
       "      <td>6</td>\n",
       "      <td>3.1</td>\n",
       "      <td>4</td>\n",
       "      <td>1</td>\n",
       "      <td>1</td>\n",
       "      <td>0</td>\n",
       "      <td>17542.03608</td>\n",
       "    </tr>\n",
       "    <tr>\n",
       "      <th>2</th>\n",
       "      <td>13196</td>\n",
       "      <td>Buick</td>\n",
       "      <td>Century</td>\n",
       "      <td>Sedan 4D</td>\n",
       "      <td>Sedan</td>\n",
       "      <td>6</td>\n",
       "      <td>3.1</td>\n",
       "      <td>4</td>\n",
       "      <td>1</td>\n",
       "      <td>1</td>\n",
       "      <td>0</td>\n",
       "      <td>16218.84786</td>\n",
       "    </tr>\n",
       "    <tr>\n",
       "      <th>3</th>\n",
       "      <td>16342</td>\n",
       "      <td>Buick</td>\n",
       "      <td>Century</td>\n",
       "      <td>Sedan 4D</td>\n",
       "      <td>Sedan</td>\n",
       "      <td>6</td>\n",
       "      <td>3.1</td>\n",
       "      <td>4</td>\n",
       "      <td>1</td>\n",
       "      <td>0</td>\n",
       "      <td>0</td>\n",
       "      <td>16336.91314</td>\n",
       "    </tr>\n",
       "    <tr>\n",
       "      <th>4</th>\n",
       "      <td>19832</td>\n",
       "      <td>Buick</td>\n",
       "      <td>Century</td>\n",
       "      <td>Sedan 4D</td>\n",
       "      <td>Sedan</td>\n",
       "      <td>6</td>\n",
       "      <td>3.1</td>\n",
       "      <td>4</td>\n",
       "      <td>1</td>\n",
       "      <td>0</td>\n",
       "      <td>1</td>\n",
       "      <td>16339.17032</td>\n",
       "    </tr>\n",
       "  </tbody>\n",
       "</table>\n",
       "</div>\n",
       "      <button class=\"colab-df-convert\" onclick=\"convertToInteractive('df-d93c69e4-c9f6-4163-b81f-3412f9b7a3fe')\"\n",
       "              title=\"Convert this dataframe to an interactive table.\"\n",
       "              style=\"display:none;\">\n",
       "        \n",
       "  <svg xmlns=\"http://www.w3.org/2000/svg\" height=\"24px\"viewBox=\"0 0 24 24\"\n",
       "       width=\"24px\">\n",
       "    <path d=\"M0 0h24v24H0V0z\" fill=\"none\"/>\n",
       "    <path d=\"M18.56 5.44l.94 2.06.94-2.06 2.06-.94-2.06-.94-.94-2.06-.94 2.06-2.06.94zm-11 1L8.5 8.5l.94-2.06 2.06-.94-2.06-.94L8.5 2.5l-.94 2.06-2.06.94zm10 10l.94 2.06.94-2.06 2.06-.94-2.06-.94-.94-2.06-.94 2.06-2.06.94z\"/><path d=\"M17.41 7.96l-1.37-1.37c-.4-.4-.92-.59-1.43-.59-.52 0-1.04.2-1.43.59L10.3 9.45l-7.72 7.72c-.78.78-.78 2.05 0 2.83L4 21.41c.39.39.9.59 1.41.59.51 0 1.02-.2 1.41-.59l7.78-7.78 2.81-2.81c.8-.78.8-2.07 0-2.86zM5.41 20L4 18.59l7.72-7.72 1.47 1.35L5.41 20z\"/>\n",
       "  </svg>\n",
       "      </button>\n",
       "      \n",
       "  <style>\n",
       "    .colab-df-container {\n",
       "      display:flex;\n",
       "      flex-wrap:wrap;\n",
       "      gap: 12px;\n",
       "    }\n",
       "\n",
       "    .colab-df-convert {\n",
       "      background-color: #E8F0FE;\n",
       "      border: none;\n",
       "      border-radius: 50%;\n",
       "      cursor: pointer;\n",
       "      display: none;\n",
       "      fill: #1967D2;\n",
       "      height: 32px;\n",
       "      padding: 0 0 0 0;\n",
       "      width: 32px;\n",
       "    }\n",
       "\n",
       "    .colab-df-convert:hover {\n",
       "      background-color: #E2EBFA;\n",
       "      box-shadow: 0px 1px 2px rgba(60, 64, 67, 0.3), 0px 1px 3px 1px rgba(60, 64, 67, 0.15);\n",
       "      fill: #174EA6;\n",
       "    }\n",
       "\n",
       "    [theme=dark] .colab-df-convert {\n",
       "      background-color: #3B4455;\n",
       "      fill: #D2E3FC;\n",
       "    }\n",
       "\n",
       "    [theme=dark] .colab-df-convert:hover {\n",
       "      background-color: #434B5C;\n",
       "      box-shadow: 0px 1px 3px 1px rgba(0, 0, 0, 0.15);\n",
       "      filter: drop-shadow(0px 1px 2px rgba(0, 0, 0, 0.3));\n",
       "      fill: #FFFFFF;\n",
       "    }\n",
       "  </style>\n",
       "\n",
       "      <script>\n",
       "        const buttonEl =\n",
       "          document.querySelector('#df-d93c69e4-c9f6-4163-b81f-3412f9b7a3fe button.colab-df-convert');\n",
       "        buttonEl.style.display =\n",
       "          google.colab.kernel.accessAllowed ? 'block' : 'none';\n",
       "\n",
       "        async function convertToInteractive(key) {\n",
       "          const element = document.querySelector('#df-d93c69e4-c9f6-4163-b81f-3412f9b7a3fe');\n",
       "          const dataTable =\n",
       "            await google.colab.kernel.invokeFunction('convertToInteractive',\n",
       "                                                     [key], {});\n",
       "          if (!dataTable) return;\n",
       "\n",
       "          const docLinkHtml = 'Like what you see? Visit the ' +\n",
       "            '<a target=\"_blank\" href=https://colab.research.google.com/notebooks/data_table.ipynb>data table notebook</a>'\n",
       "            + ' to learn more about interactive tables.';\n",
       "          element.innerHTML = '';\n",
       "          dataTable['output_type'] = 'display_data';\n",
       "          await google.colab.output.renderOutput(dataTable, element);\n",
       "          const docLink = document.createElement('div');\n",
       "          docLink.innerHTML = docLinkHtml;\n",
       "          element.appendChild(docLink);\n",
       "        }\n",
       "      </script>\n",
       "    </div>\n",
       "  </div>\n",
       "  "
      ],
      "text/plain": [
       "   Mileage   Make    Model      Trim   Type  Cylinder  Liter  Doors  Cruise  \\\n",
       "0     8221  Buick  Century  Sedan 4D  Sedan         6    3.1      4       1   \n",
       "1     9135  Buick  Century  Sedan 4D  Sedan         6    3.1      4       1   \n",
       "2    13196  Buick  Century  Sedan 4D  Sedan         6    3.1      4       1   \n",
       "3    16342  Buick  Century  Sedan 4D  Sedan         6    3.1      4       1   \n",
       "4    19832  Buick  Century  Sedan 4D  Sedan         6    3.1      4       1   \n",
       "\n",
       "   Sound  Leather        Price  \n",
       "0      1        1  17314.10313  \n",
       "1      1        0  17542.03608  \n",
       "2      1        0  16218.84786  \n",
       "3      0        0  16336.91314  \n",
       "4      0        1  16339.17032  "
      ]
     },
     "execution_count": 4,
     "metadata": {},
     "output_type": "execute_result"
    }
   ],
   "source": [
    "data.head()"
   ]
  },
  {
   "cell_type": "code",
   "execution_count": 5,
   "metadata": {
    "colab": {
     "base_uri": "https://localhost:8080/",
     "height": 364
    },
    "id": "MwCRmxUlcYjg",
    "outputId": "f25b92f3-1b48-4869-90a4-f36f16e1dfb4"
   },
   "outputs": [
    {
     "data": {
      "text/html": [
       "\n",
       "  <div id=\"df-75d357ee-0318-4fe4-8e7b-cdb66d7fff2a\">\n",
       "    <div class=\"colab-df-container\">\n",
       "      <div>\n",
       "<style scoped>\n",
       "    .dataframe tbody tr th:only-of-type {\n",
       "        vertical-align: middle;\n",
       "    }\n",
       "\n",
       "    .dataframe tbody tr th {\n",
       "        vertical-align: top;\n",
       "    }\n",
       "\n",
       "    .dataframe thead th {\n",
       "        text-align: right;\n",
       "    }\n",
       "</style>\n",
       "<table border=\"1\" class=\"dataframe\">\n",
       "  <thead>\n",
       "    <tr style=\"text-align: right;\">\n",
       "      <th></th>\n",
       "      <th>Mileage</th>\n",
       "      <th>Cylinder</th>\n",
       "      <th>Liter</th>\n",
       "      <th>Doors</th>\n",
       "      <th>Cruise</th>\n",
       "      <th>Sound</th>\n",
       "      <th>Leather</th>\n",
       "      <th>Price</th>\n",
       "    </tr>\n",
       "  </thead>\n",
       "  <tbody>\n",
       "    <tr>\n",
       "      <th>count</th>\n",
       "      <td>804.000000</td>\n",
       "      <td>804.000000</td>\n",
       "      <td>804.000000</td>\n",
       "      <td>804.000000</td>\n",
       "      <td>804.000000</td>\n",
       "      <td>804.000000</td>\n",
       "      <td>804.000000</td>\n",
       "      <td>804.000000</td>\n",
       "    </tr>\n",
       "    <tr>\n",
       "      <th>mean</th>\n",
       "      <td>19831.934080</td>\n",
       "      <td>5.268657</td>\n",
       "      <td>3.037313</td>\n",
       "      <td>3.527363</td>\n",
       "      <td>0.752488</td>\n",
       "      <td>0.679104</td>\n",
       "      <td>0.723881</td>\n",
       "      <td>21343.143767</td>\n",
       "    </tr>\n",
       "    <tr>\n",
       "      <th>std</th>\n",
       "      <td>8196.319707</td>\n",
       "      <td>1.387531</td>\n",
       "      <td>1.105562</td>\n",
       "      <td>0.850169</td>\n",
       "      <td>0.431836</td>\n",
       "      <td>0.467111</td>\n",
       "      <td>0.447355</td>\n",
       "      <td>9884.852801</td>\n",
       "    </tr>\n",
       "    <tr>\n",
       "      <th>min</th>\n",
       "      <td>266.000000</td>\n",
       "      <td>4.000000</td>\n",
       "      <td>1.600000</td>\n",
       "      <td>2.000000</td>\n",
       "      <td>0.000000</td>\n",
       "      <td>0.000000</td>\n",
       "      <td>0.000000</td>\n",
       "      <td>8638.930895</td>\n",
       "    </tr>\n",
       "    <tr>\n",
       "      <th>25%</th>\n",
       "      <td>14623.500000</td>\n",
       "      <td>4.000000</td>\n",
       "      <td>2.200000</td>\n",
       "      <td>4.000000</td>\n",
       "      <td>1.000000</td>\n",
       "      <td>0.000000</td>\n",
       "      <td>0.000000</td>\n",
       "      <td>14273.073875</td>\n",
       "    </tr>\n",
       "    <tr>\n",
       "      <th>50%</th>\n",
       "      <td>20913.500000</td>\n",
       "      <td>6.000000</td>\n",
       "      <td>2.800000</td>\n",
       "      <td>4.000000</td>\n",
       "      <td>1.000000</td>\n",
       "      <td>1.000000</td>\n",
       "      <td>1.000000</td>\n",
       "      <td>18024.995020</td>\n",
       "    </tr>\n",
       "    <tr>\n",
       "      <th>75%</th>\n",
       "      <td>25213.000000</td>\n",
       "      <td>6.000000</td>\n",
       "      <td>3.800000</td>\n",
       "      <td>4.000000</td>\n",
       "      <td>1.000000</td>\n",
       "      <td>1.000000</td>\n",
       "      <td>1.000000</td>\n",
       "      <td>26717.316635</td>\n",
       "    </tr>\n",
       "    <tr>\n",
       "      <th>max</th>\n",
       "      <td>50387.000000</td>\n",
       "      <td>8.000000</td>\n",
       "      <td>6.000000</td>\n",
       "      <td>4.000000</td>\n",
       "      <td>1.000000</td>\n",
       "      <td>1.000000</td>\n",
       "      <td>1.000000</td>\n",
       "      <td>70755.466720</td>\n",
       "    </tr>\n",
       "  </tbody>\n",
       "</table>\n",
       "</div>\n",
       "      <button class=\"colab-df-convert\" onclick=\"convertToInteractive('df-75d357ee-0318-4fe4-8e7b-cdb66d7fff2a')\"\n",
       "              title=\"Convert this dataframe to an interactive table.\"\n",
       "              style=\"display:none;\">\n",
       "        \n",
       "  <svg xmlns=\"http://www.w3.org/2000/svg\" height=\"24px\"viewBox=\"0 0 24 24\"\n",
       "       width=\"24px\">\n",
       "    <path d=\"M0 0h24v24H0V0z\" fill=\"none\"/>\n",
       "    <path d=\"M18.56 5.44l.94 2.06.94-2.06 2.06-.94-2.06-.94-.94-2.06-.94 2.06-2.06.94zm-11 1L8.5 8.5l.94-2.06 2.06-.94-2.06-.94L8.5 2.5l-.94 2.06-2.06.94zm10 10l.94 2.06.94-2.06 2.06-.94-2.06-.94-.94-2.06-.94 2.06-2.06.94z\"/><path d=\"M17.41 7.96l-1.37-1.37c-.4-.4-.92-.59-1.43-.59-.52 0-1.04.2-1.43.59L10.3 9.45l-7.72 7.72c-.78.78-.78 2.05 0 2.83L4 21.41c.39.39.9.59 1.41.59.51 0 1.02-.2 1.41-.59l7.78-7.78 2.81-2.81c.8-.78.8-2.07 0-2.86zM5.41 20L4 18.59l7.72-7.72 1.47 1.35L5.41 20z\"/>\n",
       "  </svg>\n",
       "      </button>\n",
       "      \n",
       "  <style>\n",
       "    .colab-df-container {\n",
       "      display:flex;\n",
       "      flex-wrap:wrap;\n",
       "      gap: 12px;\n",
       "    }\n",
       "\n",
       "    .colab-df-convert {\n",
       "      background-color: #E8F0FE;\n",
       "      border: none;\n",
       "      border-radius: 50%;\n",
       "      cursor: pointer;\n",
       "      display: none;\n",
       "      fill: #1967D2;\n",
       "      height: 32px;\n",
       "      padding: 0 0 0 0;\n",
       "      width: 32px;\n",
       "    }\n",
       "\n",
       "    .colab-df-convert:hover {\n",
       "      background-color: #E2EBFA;\n",
       "      box-shadow: 0px 1px 2px rgba(60, 64, 67, 0.3), 0px 1px 3px 1px rgba(60, 64, 67, 0.15);\n",
       "      fill: #174EA6;\n",
       "    }\n",
       "\n",
       "    [theme=dark] .colab-df-convert {\n",
       "      background-color: #3B4455;\n",
       "      fill: #D2E3FC;\n",
       "    }\n",
       "\n",
       "    [theme=dark] .colab-df-convert:hover {\n",
       "      background-color: #434B5C;\n",
       "      box-shadow: 0px 1px 3px 1px rgba(0, 0, 0, 0.15);\n",
       "      filter: drop-shadow(0px 1px 2px rgba(0, 0, 0, 0.3));\n",
       "      fill: #FFFFFF;\n",
       "    }\n",
       "  </style>\n",
       "\n",
       "      <script>\n",
       "        const buttonEl =\n",
       "          document.querySelector('#df-75d357ee-0318-4fe4-8e7b-cdb66d7fff2a button.colab-df-convert');\n",
       "        buttonEl.style.display =\n",
       "          google.colab.kernel.accessAllowed ? 'block' : 'none';\n",
       "\n",
       "        async function convertToInteractive(key) {\n",
       "          const element = document.querySelector('#df-75d357ee-0318-4fe4-8e7b-cdb66d7fff2a');\n",
       "          const dataTable =\n",
       "            await google.colab.kernel.invokeFunction('convertToInteractive',\n",
       "                                                     [key], {});\n",
       "          if (!dataTable) return;\n",
       "\n",
       "          const docLinkHtml = 'Like what you see? Visit the ' +\n",
       "            '<a target=\"_blank\" href=https://colab.research.google.com/notebooks/data_table.ipynb>data table notebook</a>'\n",
       "            + ' to learn more about interactive tables.';\n",
       "          element.innerHTML = '';\n",
       "          dataTable['output_type'] = 'display_data';\n",
       "          await google.colab.output.renderOutput(dataTable, element);\n",
       "          const docLink = document.createElement('div');\n",
       "          docLink.innerHTML = docLinkHtml;\n",
       "          element.appendChild(docLink);\n",
       "        }\n",
       "      </script>\n",
       "    </div>\n",
       "  </div>\n",
       "  "
      ],
      "text/plain": [
       "            Mileage    Cylinder       Liter       Doors      Cruise  \\\n",
       "count    804.000000  804.000000  804.000000  804.000000  804.000000   \n",
       "mean   19831.934080    5.268657    3.037313    3.527363    0.752488   \n",
       "std     8196.319707    1.387531    1.105562    0.850169    0.431836   \n",
       "min      266.000000    4.000000    1.600000    2.000000    0.000000   \n",
       "25%    14623.500000    4.000000    2.200000    4.000000    1.000000   \n",
       "50%    20913.500000    6.000000    2.800000    4.000000    1.000000   \n",
       "75%    25213.000000    6.000000    3.800000    4.000000    1.000000   \n",
       "max    50387.000000    8.000000    6.000000    4.000000    1.000000   \n",
       "\n",
       "            Sound     Leather         Price  \n",
       "count  804.000000  804.000000    804.000000  \n",
       "mean     0.679104    0.723881  21343.143767  \n",
       "std      0.467111    0.447355   9884.852801  \n",
       "min      0.000000    0.000000   8638.930895  \n",
       "25%      0.000000    0.000000  14273.073875  \n",
       "50%      1.000000    1.000000  18024.995020  \n",
       "75%      1.000000    1.000000  26717.316635  \n",
       "max      1.000000    1.000000  70755.466720  "
      ]
     },
     "execution_count": 5,
     "metadata": {},
     "output_type": "execute_result"
    }
   ],
   "source": [
    "data.describe()"
   ]
  },
  {
   "cell_type": "code",
   "execution_count": 6,
   "metadata": {
    "colab": {
     "base_uri": "https://localhost:8080/"
    },
    "id": "444UuuHmdDaR",
    "outputId": "45f6ef20-7395-484a-8d36-0a8cdf9fe152"
   },
   "outputs": [
    {
     "name": "stdout",
     "output_type": "stream",
     "text": [
      "<class 'pandas.core.frame.DataFrame'>\n",
      "RangeIndex: 804 entries, 0 to 803\n",
      "Data columns (total 12 columns):\n",
      " #   Column    Non-Null Count  Dtype  \n",
      "---  ------    --------------  -----  \n",
      " 0   Mileage   804 non-null    int64  \n",
      " 1   Make      804 non-null    object \n",
      " 2   Model     804 non-null    object \n",
      " 3   Trim      804 non-null    object \n",
      " 4   Type      804 non-null    object \n",
      " 5   Cylinder  804 non-null    int64  \n",
      " 6   Liter     804 non-null    float64\n",
      " 7   Doors     804 non-null    int64  \n",
      " 8   Cruise    804 non-null    int64  \n",
      " 9   Sound     804 non-null    int64  \n",
      " 10  Leather   804 non-null    int64  \n",
      " 11  Price     804 non-null    float64\n",
      "dtypes: float64(2), int64(6), object(4)\n",
      "memory usage: 75.5+ KB\n"
     ]
    }
   ],
   "source": [
    "data.info()"
   ]
  },
  {
   "cell_type": "code",
   "execution_count": 7,
   "metadata": {
    "colab": {
     "base_uri": "https://localhost:8080/"
    },
    "id": "hiWS0zzzdMrn",
    "outputId": "d7843160-4bc4-45cc-96e6-8364d7fd97c7"
   },
   "outputs": [
    {
     "data": {
      "text/plain": [
       "(804, 12)"
      ]
     },
     "execution_count": 7,
     "metadata": {},
     "output_type": "execute_result"
    }
   ],
   "source": [
    "data.shape"
   ]
  },
  {
   "cell_type": "code",
   "execution_count": 8,
   "metadata": {
    "colab": {
     "base_uri": "https://localhost:8080/"
    },
    "id": "gYVEzHfsdj5n",
    "outputId": "f4de1983-30cc-44d6-b703-f096b319c219"
   },
   "outputs": [
    {
     "data": {
      "text/plain": [
       "Mileage       int64\n",
       "Make         object\n",
       "Model        object\n",
       "Trim         object\n",
       "Type         object\n",
       "Cylinder      int64\n",
       "Liter       float64\n",
       "Doors         int64\n",
       "Cruise        int64\n",
       "Sound         int64\n",
       "Leather       int64\n",
       "Price       float64\n",
       "dtype: object"
      ]
     },
     "execution_count": 8,
     "metadata": {},
     "output_type": "execute_result"
    }
   ],
   "source": [
    "data.dtypes"
   ]
  },
  {
   "cell_type": "code",
   "execution_count": 9,
   "metadata": {
    "colab": {
     "base_uri": "https://localhost:8080/"
    },
    "id": "pGTY-Hzcfu0I",
    "outputId": "27a939e4-fc10-448d-a563-c8b66a5f27c8"
   },
   "outputs": [
    {
     "data": {
      "text/plain": [
       "False"
      ]
     },
     "execution_count": 9,
     "metadata": {},
     "output_type": "execute_result"
    }
   ],
   "source": [
    "data.isnull().values.any()"
   ]
  },
  {
   "cell_type": "code",
   "execution_count": 10,
   "metadata": {
    "colab": {
     "base_uri": "https://localhost:8080/"
    },
    "id": "hekm70qtgCbc",
    "outputId": "504423b9-e031-44f3-fab9-c90795cff0f0"
   },
   "outputs": [
    {
     "data": {
      "text/plain": [
       "Mileage     0\n",
       "Make        0\n",
       "Model       0\n",
       "Trim        0\n",
       "Type        0\n",
       "Cylinder    0\n",
       "Liter       0\n",
       "Doors       0\n",
       "Cruise      0\n",
       "Sound       0\n",
       "Leather     0\n",
       "Price       0\n",
       "dtype: int64"
      ]
     },
     "execution_count": 10,
     "metadata": {},
     "output_type": "execute_result"
    }
   ],
   "source": [
    "data.isnull().sum()"
   ]
  },
  {
   "cell_type": "code",
   "execution_count": 11,
   "metadata": {
    "id": "TehVE9_TgN14"
   },
   "outputs": [],
   "source": [
    "data.drop_duplicates(inplace=True)"
   ]
  },
  {
   "cell_type": "code",
   "execution_count": 12,
   "metadata": {
    "colab": {
     "base_uri": "https://localhost:8080/",
     "height": 357
    },
    "id": "6dv0-cfHgfMJ",
    "outputId": "0512fce8-0c54-4b41-b142-6e078f85cd75"
   },
   "outputs": [
    {
     "data": {
      "text/html": [
       "\n",
       "  <div id=\"df-e317d458-a5dd-4860-8449-26bf81c536f0\">\n",
       "    <div class=\"colab-df-container\">\n",
       "      <div>\n",
       "<style scoped>\n",
       "    .dataframe tbody tr th:only-of-type {\n",
       "        vertical-align: middle;\n",
       "    }\n",
       "\n",
       "    .dataframe tbody tr th {\n",
       "        vertical-align: top;\n",
       "    }\n",
       "\n",
       "    .dataframe thead th {\n",
       "        text-align: right;\n",
       "    }\n",
       "</style>\n",
       "<table border=\"1\" class=\"dataframe\">\n",
       "  <thead>\n",
       "    <tr style=\"text-align: right;\">\n",
       "      <th></th>\n",
       "      <th>Mileage</th>\n",
       "      <th>Make</th>\n",
       "      <th>Model</th>\n",
       "      <th>Trim</th>\n",
       "      <th>Type</th>\n",
       "      <th>Cylinder</th>\n",
       "      <th>Liter</th>\n",
       "      <th>Doors</th>\n",
       "      <th>Cruise</th>\n",
       "      <th>Sound</th>\n",
       "      <th>Leather</th>\n",
       "      <th>Price</th>\n",
       "    </tr>\n",
       "  </thead>\n",
       "  <tbody>\n",
       "    <tr>\n",
       "      <th>0</th>\n",
       "      <td>8221</td>\n",
       "      <td>Buick</td>\n",
       "      <td>Century</td>\n",
       "      <td>Sedan 4D</td>\n",
       "      <td>Sedan</td>\n",
       "      <td>6</td>\n",
       "      <td>3.1</td>\n",
       "      <td>4</td>\n",
       "      <td>1</td>\n",
       "      <td>1</td>\n",
       "      <td>1</td>\n",
       "      <td>17314.10313</td>\n",
       "    </tr>\n",
       "    <tr>\n",
       "      <th>1</th>\n",
       "      <td>9135</td>\n",
       "      <td>Buick</td>\n",
       "      <td>Century</td>\n",
       "      <td>Sedan 4D</td>\n",
       "      <td>Sedan</td>\n",
       "      <td>6</td>\n",
       "      <td>3.1</td>\n",
       "      <td>4</td>\n",
       "      <td>1</td>\n",
       "      <td>1</td>\n",
       "      <td>0</td>\n",
       "      <td>17542.03608</td>\n",
       "    </tr>\n",
       "    <tr>\n",
       "      <th>2</th>\n",
       "      <td>13196</td>\n",
       "      <td>Buick</td>\n",
       "      <td>Century</td>\n",
       "      <td>Sedan 4D</td>\n",
       "      <td>Sedan</td>\n",
       "      <td>6</td>\n",
       "      <td>3.1</td>\n",
       "      <td>4</td>\n",
       "      <td>1</td>\n",
       "      <td>1</td>\n",
       "      <td>0</td>\n",
       "      <td>16218.84786</td>\n",
       "    </tr>\n",
       "    <tr>\n",
       "      <th>3</th>\n",
       "      <td>16342</td>\n",
       "      <td>Buick</td>\n",
       "      <td>Century</td>\n",
       "      <td>Sedan 4D</td>\n",
       "      <td>Sedan</td>\n",
       "      <td>6</td>\n",
       "      <td>3.1</td>\n",
       "      <td>4</td>\n",
       "      <td>1</td>\n",
       "      <td>0</td>\n",
       "      <td>0</td>\n",
       "      <td>16336.91314</td>\n",
       "    </tr>\n",
       "    <tr>\n",
       "      <th>4</th>\n",
       "      <td>19832</td>\n",
       "      <td>Buick</td>\n",
       "      <td>Century</td>\n",
       "      <td>Sedan 4D</td>\n",
       "      <td>Sedan</td>\n",
       "      <td>6</td>\n",
       "      <td>3.1</td>\n",
       "      <td>4</td>\n",
       "      <td>1</td>\n",
       "      <td>0</td>\n",
       "      <td>1</td>\n",
       "      <td>16339.17032</td>\n",
       "    </tr>\n",
       "  </tbody>\n",
       "</table>\n",
       "</div>\n",
       "      <button class=\"colab-df-convert\" onclick=\"convertToInteractive('df-e317d458-a5dd-4860-8449-26bf81c536f0')\"\n",
       "              title=\"Convert this dataframe to an interactive table.\"\n",
       "              style=\"display:none;\">\n",
       "        \n",
       "  <svg xmlns=\"http://www.w3.org/2000/svg\" height=\"24px\"viewBox=\"0 0 24 24\"\n",
       "       width=\"24px\">\n",
       "    <path d=\"M0 0h24v24H0V0z\" fill=\"none\"/>\n",
       "    <path d=\"M18.56 5.44l.94 2.06.94-2.06 2.06-.94-2.06-.94-.94-2.06-.94 2.06-2.06.94zm-11 1L8.5 8.5l.94-2.06 2.06-.94-2.06-.94L8.5 2.5l-.94 2.06-2.06.94zm10 10l.94 2.06.94-2.06 2.06-.94-2.06-.94-.94-2.06-.94 2.06-2.06.94z\"/><path d=\"M17.41 7.96l-1.37-1.37c-.4-.4-.92-.59-1.43-.59-.52 0-1.04.2-1.43.59L10.3 9.45l-7.72 7.72c-.78.78-.78 2.05 0 2.83L4 21.41c.39.39.9.59 1.41.59.51 0 1.02-.2 1.41-.59l7.78-7.78 2.81-2.81c.8-.78.8-2.07 0-2.86zM5.41 20L4 18.59l7.72-7.72 1.47 1.35L5.41 20z\"/>\n",
       "  </svg>\n",
       "      </button>\n",
       "      \n",
       "  <style>\n",
       "    .colab-df-container {\n",
       "      display:flex;\n",
       "      flex-wrap:wrap;\n",
       "      gap: 12px;\n",
       "    }\n",
       "\n",
       "    .colab-df-convert {\n",
       "      background-color: #E8F0FE;\n",
       "      border: none;\n",
       "      border-radius: 50%;\n",
       "      cursor: pointer;\n",
       "      display: none;\n",
       "      fill: #1967D2;\n",
       "      height: 32px;\n",
       "      padding: 0 0 0 0;\n",
       "      width: 32px;\n",
       "    }\n",
       "\n",
       "    .colab-df-convert:hover {\n",
       "      background-color: #E2EBFA;\n",
       "      box-shadow: 0px 1px 2px rgba(60, 64, 67, 0.3), 0px 1px 3px 1px rgba(60, 64, 67, 0.15);\n",
       "      fill: #174EA6;\n",
       "    }\n",
       "\n",
       "    [theme=dark] .colab-df-convert {\n",
       "      background-color: #3B4455;\n",
       "      fill: #D2E3FC;\n",
       "    }\n",
       "\n",
       "    [theme=dark] .colab-df-convert:hover {\n",
       "      background-color: #434B5C;\n",
       "      box-shadow: 0px 1px 3px 1px rgba(0, 0, 0, 0.15);\n",
       "      filter: drop-shadow(0px 1px 2px rgba(0, 0, 0, 0.3));\n",
       "      fill: #FFFFFF;\n",
       "    }\n",
       "  </style>\n",
       "\n",
       "      <script>\n",
       "        const buttonEl =\n",
       "          document.querySelector('#df-e317d458-a5dd-4860-8449-26bf81c536f0 button.colab-df-convert');\n",
       "        buttonEl.style.display =\n",
       "          google.colab.kernel.accessAllowed ? 'block' : 'none';\n",
       "\n",
       "        async function convertToInteractive(key) {\n",
       "          const element = document.querySelector('#df-e317d458-a5dd-4860-8449-26bf81c536f0');\n",
       "          const dataTable =\n",
       "            await google.colab.kernel.invokeFunction('convertToInteractive',\n",
       "                                                     [key], {});\n",
       "          if (!dataTable) return;\n",
       "\n",
       "          const docLinkHtml = 'Like what you see? Visit the ' +\n",
       "            '<a target=\"_blank\" href=https://colab.research.google.com/notebooks/data_table.ipynb>data table notebook</a>'\n",
       "            + ' to learn more about interactive tables.';\n",
       "          element.innerHTML = '';\n",
       "          dataTable['output_type'] = 'display_data';\n",
       "          await google.colab.output.renderOutput(dataTable, element);\n",
       "          const docLink = document.createElement('div');\n",
       "          docLink.innerHTML = docLinkHtml;\n",
       "          element.appendChild(docLink);\n",
       "        }\n",
       "      </script>\n",
       "    </div>\n",
       "  </div>\n",
       "  "
      ],
      "text/plain": [
       "   Mileage   Make    Model      Trim   Type  Cylinder  Liter  Doors  Cruise  \\\n",
       "0     8221  Buick  Century  Sedan 4D  Sedan         6    3.1      4       1   \n",
       "1     9135  Buick  Century  Sedan 4D  Sedan         6    3.1      4       1   \n",
       "2    13196  Buick  Century  Sedan 4D  Sedan         6    3.1      4       1   \n",
       "3    16342  Buick  Century  Sedan 4D  Sedan         6    3.1      4       1   \n",
       "4    19832  Buick  Century  Sedan 4D  Sedan         6    3.1      4       1   \n",
       "\n",
       "   Sound  Leather        Price  \n",
       "0      1        1  17314.10313  \n",
       "1      1        0  17542.03608  \n",
       "2      1        0  16218.84786  \n",
       "3      0        0  16336.91314  \n",
       "4      0        1  16339.17032  "
      ]
     },
     "execution_count": 12,
     "metadata": {},
     "output_type": "execute_result"
    }
   ],
   "source": [
    "data.head()"
   ]
  },
  {
   "cell_type": "code",
   "execution_count": 13,
   "metadata": {
    "colab": {
     "base_uri": "https://localhost:8080/"
    },
    "id": "W2mIbogoDVKO",
    "outputId": "ce4ef2a9-dd5a-4f38-c925-8b7cbfd4f8e8"
   },
   "outputs": [
    {
     "data": {
      "text/plain": [
       "Mileage     6.717966e+07\n",
       "Cylinder    1.925243e+00\n",
       "Liter       1.222267e+00\n",
       "Doors       7.227871e-01\n",
       "Cruise      1.864820e-01\n",
       "Sound       2.181930e-01\n",
       "Leather     2.001264e-01\n",
       "Price       9.771031e+07\n",
       "dtype: float64"
      ]
     },
     "execution_count": 13,
     "metadata": {},
     "output_type": "execute_result"
    }
   ],
   "source": [
    "data.var()"
   ]
  },
  {
   "cell_type": "markdown",
   "metadata": {
    "id": "VadrvE7s_lS9"
   },
   "source": [
    "## Encoding categorical data"
   ]
  },
  {
   "cell_type": "code",
   "execution_count": 14,
   "metadata": {
    "id": "3KJkRpgZg8Oy"
   },
   "outputs": [],
   "source": [
    "list_1=list(data.columns)"
   ]
  },
  {
   "cell_type": "code",
   "execution_count": 15,
   "metadata": {
    "id": "saZ1RTKUhAYC"
   },
   "outputs": [],
   "source": [
    "list_cate=[]\n",
    "for i in list_1:\n",
    "    if data[i].dtype=='object':\n",
    "        list_cate.append(i)"
   ]
  },
  {
   "cell_type": "code",
   "execution_count": 16,
   "metadata": {
    "id": "XiZd4Ez5hlQb"
   },
   "outputs": [],
   "source": [
    "from sklearn.preprocessing import LabelEncoder\n",
    "le=LabelEncoder()\n",
    "for i in list_cate:\n",
    "    data[i]=le.fit_transform(data[i])"
   ]
  },
  {
   "cell_type": "code",
   "execution_count": 17,
   "metadata": {
    "colab": {
     "base_uri": "https://localhost:8080/"
    },
    "id": "C10yvxPAiVn_",
    "outputId": "7a32b268-1328-415c-ec44-4c279286f15d"
   },
   "outputs": [
    {
     "name": "stdout",
     "output_type": "stream",
     "text": [
      "     Mileage  Make  Model  Trim  Type  Cylinder  Liter  Doors  Cruise  Sound  \\\n",
      "0       8221     0     10    44     3         6    3.1      4       1      1   \n",
      "1       9135     0     10    44     3         6    3.1      4       1      1   \n",
      "2      13196     0     10    44     3         6    3.1      4       1      1   \n",
      "3      16342     0     10    44     3         6    3.1      4       1      0   \n",
      "4      19832     0     10    44     3         6    3.1      4       1      0   \n",
      "..       ...   ...    ...   ...   ...       ...    ...    ...     ...    ...   \n",
      "799    16229     5     21    21     3         6    3.0      4       1      0   \n",
      "800    19095     5     21    21     3         6    3.0      4       1      1   \n",
      "801    20484     5     21    21     3         6    3.0      4       1      1   \n",
      "802    25979     5     21    21     3         6    3.0      4       1      1   \n",
      "803    35662     5     21    21     3         6    3.0      4       1      0   \n",
      "\n",
      "     Leather        Price  \n",
      "0          1  17314.10313  \n",
      "1          0  17542.03608  \n",
      "2          0  16218.84786  \n",
      "3          0  16336.91314  \n",
      "4          1  16339.17032  \n",
      "..       ...          ...  \n",
      "799        0  16507.07027  \n",
      "800        0  16175.95760  \n",
      "801        0  15731.13290  \n",
      "802        0  15118.89323  \n",
      "803        0  13585.63680  \n",
      "\n",
      "[804 rows x 12 columns]\n"
     ]
    }
   ],
   "source": [
    "print(data)"
   ]
  },
  {
   "cell_type": "code",
   "execution_count": 24,
   "metadata": {
    "id": "n6gYILppkq1F"
   },
   "outputs": [],
   "source": [
    "X = data.iloc[:, :-1]\n",
    "y = data.iloc[:, -1]"
   ]
  },
  {
   "cell_type": "code",
   "execution_count": 25,
   "metadata": {
    "colab": {
     "base_uri": "https://localhost:8080/"
    },
    "id": "UN-HKXgLa5S0",
    "outputId": "f30a127f-fd64-4f46-a696-74d4ae57eef2"
   },
   "outputs": [
    {
     "name": "stdout",
     "output_type": "stream",
     "text": [
      "     Mileage  Make  Model  Trim  Type  Cylinder  Liter  Doors  Cruise  Sound  \\\n",
      "0       8221     0     10    44     3         6    3.1      4       1      1   \n",
      "1       9135     0     10    44     3         6    3.1      4       1      1   \n",
      "2      13196     0     10    44     3         6    3.1      4       1      1   \n",
      "3      16342     0     10    44     3         6    3.1      4       1      0   \n",
      "4      19832     0     10    44     3         6    3.1      4       1      0   \n",
      "..       ...   ...    ...   ...   ...       ...    ...    ...     ...    ...   \n",
      "799    16229     5     21    21     3         6    3.0      4       1      0   \n",
      "800    19095     5     21    21     3         6    3.0      4       1      1   \n",
      "801    20484     5     21    21     3         6    3.0      4       1      1   \n",
      "802    25979     5     21    21     3         6    3.0      4       1      1   \n",
      "803    35662     5     21    21     3         6    3.0      4       1      0   \n",
      "\n",
      "     Leather  \n",
      "0          1  \n",
      "1          0  \n",
      "2          0  \n",
      "3          0  \n",
      "4          1  \n",
      "..       ...  \n",
      "799        0  \n",
      "800        0  \n",
      "801        0  \n",
      "802        0  \n",
      "803        0  \n",
      "\n",
      "[804 rows x 11 columns]\n"
     ]
    }
   ],
   "source": [
    "print(X)"
   ]
  },
  {
   "cell_type": "markdown",
   "metadata": {
    "id": "3cfZE6IRCEb5"
   },
   "source": [
    "***feature correlations***"
   ]
  },
  {
   "cell_type": "code",
   "execution_count": 26,
   "metadata": {
    "colab": {
     "base_uri": "https://localhost:8080/",
     "height": 731
    },
    "id": "x2pj_9B_dKnt",
    "outputId": "6d4fbd27-f47f-4645-89d1-4c67863fb8a8"
   },
   "outputs": [
    {
     "data": {
      "text/plain": [
       "<matplotlib.axes._subplots.AxesSubplot at 0x7fad2b9e3150>"
      ]
     },
     "execution_count": 26,
     "metadata": {},
     "output_type": "execute_result"
    },
    {
     "data": {
      "image/png": "[encoded data removed]",
      "text/plain": [
       "<Figure size 1296x1296 with 2 Axes>"
      ]
     },
     "metadata": {
      "needs_background": "light"
     },
     "output_type": "display_data"
    }
   ],
   "source": [
    "f,ax = plt.subplots(figsize=(18, 18))\n",
    "sns.heatmap(X.corr(), annot=True, linewidths=.5, fmt= '.1f',ax=ax)"
   ]
  },
  {
   "cell_type": "markdown",
   "metadata": {
    "id": "Zb2Qo5nhCRl0"
   },
   "source": [
    "***Correlation between features and target***"
   ]
  },
  {
   "cell_type": "code",
   "execution_count": 27,
   "metadata": {
    "id": "DkNnCF65Cecn"
   },
   "outputs": [],
   "source": [
    "features = data.iloc[:, :-1].columns.tolist()\n",
    "target = data.iloc[:, -1].name"
   ]
  },
  {
   "cell_type": "code",
   "execution_count": 28,
   "metadata": {
    "colab": {
     "base_uri": "https://localhost:8080/"
    },
    "id": "WtLX26PLOD4_",
    "outputId": "4461db9c-32ba-4352-d71d-4451b75f0694"
   },
   "outputs": [
    {
     "name": "stdout",
     "output_type": "stream",
     "text": [
      "['Mileage', 'Make', 'Model', 'Trim', 'Type', 'Cylinder', 'Liter', 'Doors', 'Cruise', 'Sound', 'Leather']\n"
     ]
    }
   ],
   "source": [
    "print(features)"
   ]
  },
  {
   "cell_type": "code",
   "execution_count": 32,
   "metadata": {
    "colab": {
     "base_uri": "https://localhost:8080/"
    },
    "id": "OtFjMx3LPAXt",
    "outputId": "02877983-4d84-479b-aa6a-dd95dcc35594"
   },
   "outputs": [
    {
     "name": "stdout",
     "output_type": "stream",
     "text": [
      "Price\n"
     ]
    }
   ],
   "source": [
    "print(target)"
   ]
  },
  {
   "cell_type": "code",
   "execution_count": 30,
   "metadata": {
    "id": "drK6tAmLDCki"
   },
   "outputs": [],
   "source": [
    "correlations = {}\n",
    "for f in features:\n",
    "    data_temp = data[[f,target]]\n",
    "    x1 = data_temp[f].values\n",
    "    x2 = data_temp[target].values\n",
    "    key = f + ' vs ' + target\n",
    "    correlations[key] = pearsonr(x1,x2)[0]"
   ]
  },
  {
   "cell_type": "code",
   "execution_count": 33,
   "metadata": {
    "colab": {
     "base_uri": "https://localhost:8080/",
     "height": 394
    },
    "id": "7gYXitBLDKj7",
    "outputId": "e32f6c9e-cd3a-485e-cc3b-5e9e4bf0dfab"
   },
   "outputs": [
    {
     "data": {
      "text/html": [
       "\n",
       "  <div id=\"df-ce68fcac-83a1-4072-be4c-855a17fa82a2\">\n",
       "    <div class=\"colab-df-container\">\n",
       "      <div>\n",
       "<style scoped>\n",
       "    .dataframe tbody tr th:only-of-type {\n",
       "        vertical-align: middle;\n",
       "    }\n",
       "\n",
       "    .dataframe tbody tr th {\n",
       "        vertical-align: top;\n",
       "    }\n",
       "\n",
       "    .dataframe thead th {\n",
       "        text-align: right;\n",
       "    }\n",
       "</style>\n",
       "<table border=\"1\" class=\"dataframe\">\n",
       "  <thead>\n",
       "    <tr style=\"text-align: right;\">\n",
       "      <th></th>\n",
       "      <th>Value</th>\n",
       "    </tr>\n",
       "  </thead>\n",
       "  <tbody>\n",
       "    <tr>\n",
       "      <th>Cylinder vs Price</th>\n",
       "      <td>0.569086</td>\n",
       "    </tr>\n",
       "    <tr>\n",
       "      <th>Liter vs Price</th>\n",
       "      <td>0.558146</td>\n",
       "    </tr>\n",
       "    <tr>\n",
       "      <th>Cruise vs Price</th>\n",
       "      <td>0.430851</td>\n",
       "    </tr>\n",
       "    <tr>\n",
       "      <th>Trim vs Price</th>\n",
       "      <td>-0.203280</td>\n",
       "    </tr>\n",
       "    <tr>\n",
       "      <th>Type vs Price</th>\n",
       "      <td>-0.163871</td>\n",
       "    </tr>\n",
       "    <tr>\n",
       "      <th>Leather vs Price</th>\n",
       "      <td>0.157197</td>\n",
       "    </tr>\n",
       "    <tr>\n",
       "      <th>Mileage vs Price</th>\n",
       "      <td>-0.143051</td>\n",
       "    </tr>\n",
       "    <tr>\n",
       "      <th>Doors vs Price</th>\n",
       "      <td>-0.138750</td>\n",
       "    </tr>\n",
       "    <tr>\n",
       "      <th>Make vs Price</th>\n",
       "      <td>-0.131644</td>\n",
       "    </tr>\n",
       "    <tr>\n",
       "      <th>Sound vs Price</th>\n",
       "      <td>-0.124348</td>\n",
       "    </tr>\n",
       "    <tr>\n",
       "      <th>Model vs Price</th>\n",
       "      <td>-0.026599</td>\n",
       "    </tr>\n",
       "  </tbody>\n",
       "</table>\n",
       "</div>\n",
       "      <button class=\"colab-df-convert\" onclick=\"convertToInteractive('df-ce68fcac-83a1-4072-be4c-855a17fa82a2')\"\n",
       "              title=\"Convert this dataframe to an interactive table.\"\n",
       "              style=\"display:none;\">\n",
       "        \n",
       "  <svg xmlns=\"http://www.w3.org/2000/svg\" height=\"24px\"viewBox=\"0 0 24 24\"\n",
       "       width=\"24px\">\n",
       "    <path d=\"M0 0h24v24H0V0z\" fill=\"none\"/>\n",
       "    <path d=\"M18.56 5.44l.94 2.06.94-2.06 2.06-.94-2.06-.94-.94-2.06-.94 2.06-2.06.94zm-11 1L8.5 8.5l.94-2.06 2.06-.94-2.06-.94L8.5 2.5l-.94 2.06-2.06.94zm10 10l.94 2.06.94-2.06 2.06-.94-2.06-.94-.94-2.06-.94 2.06-2.06.94z\"/><path d=\"M17.41 7.96l-1.37-1.37c-.4-.4-.92-.59-1.43-.59-.52 0-1.04.2-1.43.59L10.3 9.45l-7.72 7.72c-.78.78-.78 2.05 0 2.83L4 21.41c.39.39.9.59 1.41.59.51 0 1.02-.2 1.41-.59l7.78-7.78 2.81-2.81c.8-.78.8-2.07 0-2.86zM5.41 20L4 18.59l7.72-7.72 1.47 1.35L5.41 20z\"/>\n",
       "  </svg>\n",
       "      </button>\n",
       "      \n",
       "  <style>\n",
       "    .colab-df-container {\n",
       "      display:flex;\n",
       "      flex-wrap:wrap;\n",
       "      gap: 12px;\n",
       "    }\n",
       "\n",
       "    .colab-df-convert {\n",
       "      background-color: #E8F0FE;\n",
       "      border: none;\n",
       "      border-radius: 50%;\n",
       "      cursor: pointer;\n",
       "      display: none;\n",
       "      fill: #1967D2;\n",
       "      height: 32px;\n",
       "      padding: 0 0 0 0;\n",
       "      width: 32px;\n",
       "    }\n",
       "\n",
       "    .colab-df-convert:hover {\n",
       "      background-color: #E2EBFA;\n",
       "      box-shadow: 0px 1px 2px rgba(60, 64, 67, 0.3), 0px 1px 3px 1px rgba(60, 64, 67, 0.15);\n",
       "      fill: #174EA6;\n",
       "    }\n",
       "\n",
       "    [theme=dark] .colab-df-convert {\n",
       "      background-color: #3B4455;\n",
       "      fill: #D2E3FC;\n",
       "    }\n",
       "\n",
       "    [theme=dark] .colab-df-convert:hover {\n",
       "      background-color: #434B5C;\n",
       "      box-shadow: 0px 1px 3px 1px rgba(0, 0, 0, 0.15);\n",
       "      filter: drop-shadow(0px 1px 2px rgba(0, 0, 0, 0.3));\n",
       "      fill: #FFFFFF;\n",
       "    }\n",
       "  </style>\n",
       "\n",
       "      <script>\n",
       "        const buttonEl =\n",
       "          document.querySelector('#df-ce68fcac-83a1-4072-be4c-855a17fa82a2 button.colab-df-convert');\n",
       "        buttonEl.style.display =\n",
       "          google.colab.kernel.accessAllowed ? 'block' : 'none';\n",
       "\n",
       "        async function convertToInteractive(key) {\n",
       "          const element = document.querySelector('#df-ce68fcac-83a1-4072-be4c-855a17fa82a2');\n",
       "          const dataTable =\n",
       "            await google.colab.kernel.invokeFunction('convertToInteractive',\n",
       "                                                     [key], {});\n",
       "          if (!dataTable) return;\n",
       "\n",
       "          const docLinkHtml = 'Like what you see? Visit the ' +\n",
       "            '<a target=\"_blank\" href=https://colab.research.google.com/notebooks/data_table.ipynb>data table notebook</a>'\n",
       "            + ' to learn more about interactive tables.';\n",
       "          element.innerHTML = '';\n",
       "          dataTable['output_type'] = 'display_data';\n",
       "          await google.colab.output.renderOutput(dataTable, element);\n",
       "          const docLink = document.createElement('div');\n",
       "          docLink.innerHTML = docLinkHtml;\n",
       "          element.appendChild(docLink);\n",
       "        }\n",
       "      </script>\n",
       "    </div>\n",
       "  </div>\n",
       "  "
      ],
      "text/plain": [
       "                      Value\n",
       "Cylinder vs Price  0.569086\n",
       "Liter vs Price     0.558146\n",
       "Cruise vs Price    0.430851\n",
       "Trim vs Price     -0.203280\n",
       "Type vs Price     -0.163871\n",
       "Leather vs Price   0.157197\n",
       "Mileage vs Price  -0.143051\n",
       "Doors vs Price    -0.138750\n",
       "Make vs Price     -0.131644\n",
       "Sound vs Price    -0.124348\n",
       "Model vs Price    -0.026599"
      ]
     },
     "execution_count": 33,
     "metadata": {},
     "output_type": "execute_result"
    }
   ],
   "source": [
    "data_correlations = pd.DataFrame(correlations, index=['Value']).T\n",
    "data_correlations.loc[data_correlations['Value'].abs().sort_values(ascending=False).index]"
   ]
  },
  {
   "cell_type": "markdown",
   "metadata": {
    "id": "WemVnqgeA70k"
   },
   "source": [
    "## Splitting the dataset into the Training set and Test set"
   ]
  },
  {
   "cell_type": "code",
   "execution_count": null,
   "metadata": {
    "id": "ZgK7OfLbvtO6"
   },
   "outputs": [],
   "source": [
    "X = data.iloc[:, :-1].values\n",
    "y = data.iloc[:, -1].values"
   ]
  },
  {
   "cell_type": "code",
   "execution_count": null,
   "metadata": {
    "id": "Kb_v_ae-A-20"
   },
   "outputs": [],
   "source": [
    "from sklearn.model_selection import train_test_split\n",
    "X_train, X_test, y_train, y_test = train_test_split(X, y, test_size = 0.2, random_state = 0)"
   ]
  },
  {
   "cell_type": "markdown",
   "metadata": {
    "id": "k-McZVsQBINc"
   },
   "source": [
    "## Training the Multiple Linear Regression model on the Training set & Model Performance"
   ]
  },
  {
   "cell_type": "code",
   "execution_count": null,
   "metadata": {
    "colab": {
     "base_uri": "https://localhost:8080/"
    },
    "id": "ywPjx0L1BMiD",
    "outputId": "c64e2624-d909-4d77-d01b-e4db5e9303c4"
   },
   "outputs": [
    {
     "data": {
      "text/plain": [
       "LinearRegression()"
      ]
     },
     "execution_count": 58,
     "metadata": {},
     "output_type": "execute_result"
    }
   ],
   "source": [
    "from sklearn.linear_model import LinearRegression\n",
    "regressor = LinearRegression()\n",
    "regressor.fit(X_train, y_train)"
   ]
  },
  {
   "cell_type": "code",
   "execution_count": null,
   "metadata": {
    "colab": {
     "base_uri": "https://localhost:8080/"
    },
    "id": "TQKmwvtdBkyb",
    "outputId": "81ac6cc7-8949-4009-bd29-6464049be0ed"
   },
   "outputs": [
    {
     "name": "stdout",
     "output_type": "stream",
     "text": [
      "[[24483.83 14862.09]\n",
      " [22058.74 16256.24]\n",
      " [ 9777.19 15802.65]\n",
      " [31068.72 45061.95]\n",
      " [14813.53 12425.39]\n",
      " [23912.65 25618.28]\n",
      " [ 9969.02 15174.35]\n",
      " [19532.37 26012.37]\n",
      " [22182.13 33005.78]\n",
      " [36525.15 70755.47]\n",
      " [13366.56 13811.16]\n",
      " [24959.92 20839.15]\n",
      " [23504.99 19774.25]\n",
      " [25479.28 32746.13]\n",
      " [22132.64 25959.12]\n",
      " [21815.29 15724.25]\n",
      " [21868.34 24852.5 ]\n",
      " [27239.95 22004.93]\n",
      " [27278.83 20676.17]\n",
      " [ 7435.2  14398.92]\n",
      " [10406.32 10354.04]\n",
      " [15324.59 13106.9 ]\n",
      " [27350.86 19204.81]\n",
      " [22693.91 21562.05]\n",
      " [22128.08 20406.1 ]\n",
      " [25002.02 17768.06]\n",
      " [21245.41 26698.08]\n",
      " [21745.54 16345.94]\n",
      " [29607.77 19682.04]\n",
      " [15566.61 11472.02]\n",
      " [ 9766.1  10770.11]\n",
      " [13865.69 11615.02]\n",
      " [33681.64 43892.47]\n",
      " [22614.41 31002.73]\n",
      " [23421.07 20017.97]\n",
      " [17692.59 25508.21]\n",
      " [21475.53 18957.89]\n",
      " [26062.65 17202.83]\n",
      " [33814.36 35129.34]\n",
      " [21462.42 23547.24]\n",
      " [15756.75 11318.01]\n",
      " [22206.71 19446.88]\n",
      " [18543.69 31970.54]\n",
      " [22897.62 16300.47]\n",
      " [23368.39 19294.79]\n",
      " [14477.28 11464.63]\n",
      " [28021.78 20698.08]\n",
      " [14842.22 14077.97]\n",
      " [22307.91 16713.98]\n",
      " [15103.29  9482.22]\n",
      " [11774.81 15821.95]\n",
      " [19720.59 12507.49]\n",
      " [21749.52 13681.7 ]\n",
      " [12178.6  13998.13]\n",
      " [29497.25 18910.8 ]\n",
      " [14212.59 14061.12]\n",
      " [36919.55 38600.24]\n",
      " [19770.65 17089.92]\n",
      " [16162.82 14894.98]\n",
      " [20500.65 35622.14]\n",
      " [12521.94 13072.84]\n",
      " [17164.64 21536.74]\n",
      " [35891.67 39547.59]\n",
      " [18258.23 11700.11]\n",
      " [22032.02 32197.34]\n",
      " [25748.25 27825.95]\n",
      " [29963.78 18173.98]\n",
      " [25657.1  18566.07]\n",
      " [23274.68 20221.81]\n",
      " [13972.13 13167.7 ]\n",
      " [19750.12 25996.81]\n",
      " [12562.82 15077.18]\n",
      " [24766.81 19409.75]\n",
      " [11949.62 13230.92]\n",
      " [37323.86 41419.04]\n",
      " [22150.86 22894.44]\n",
      " [22579.25 17542.04]\n",
      " [22186.79 15623.92]\n",
      " [29615.75 21607.77]\n",
      " [25142.97 17839.8 ]\n",
      " [21360.25 30075.99]\n",
      " [19173.38 34355.  ]\n",
      " [25911.96 20109.9 ]\n",
      " [11813.47 13744.85]\n",
      " [26179.53 37383.5 ]\n",
      " [18299.66 10971.1 ]\n",
      " [18333.62 12828.03]\n",
      " [17954.87 16456.97]\n",
      " [24314.36 15731.13]\n",
      " [19752.84 24405.07]\n",
      " [22048.61 30315.17]\n",
      " [17189.21 23249.84]\n",
      " [38793.74 38990.61]\n",
      " [24572.07 33358.77]\n",
      " [23621.85 16472.9 ]\n",
      " [11224.75 15730.05]\n",
      " [21607.07 15797.2 ]\n",
      " [15161.52 13159.82]\n",
      " [23513.47 29197.79]\n",
      " [26216.36 19448.23]\n",
      " [35649.84 39691.73]\n",
      " [38234.38 27425.84]\n",
      " [10363.31 15568.97]\n",
      " [38967.81 23578.16]\n",
      " [19212.07 14678.11]\n",
      " [16204.84 11699.03]\n",
      " [24666.59 21745.03]\n",
      " [21525.56 15967.25]\n",
      " [25905.83 33586.91]\n",
      " [19241.96 14198.09]\n",
      " [18777.69 17808.2 ]\n",
      " [16340.91 12045.92]\n",
      " [25528.31 30800.66]\n",
      " [26449.36 19075.68]\n",
      " [31429.04 41671.58]\n",
      " [14728.33 14185.02]\n",
      " [38678.78 29664.7 ]\n",
      " [20838.86 21908.37]\n",
      " [19479.67 17891.63]\n",
      " [14130.71 12791.75]\n",
      " [22083.43 16803.12]\n",
      " [39619.63 29595.79]\n",
      " [11150.28 13545.03]\n",
      " [22057.01 20902.1 ]\n",
      " [28659.4  15253.87]\n",
      " [23833.3  16516.96]\n",
      " [17307.97 15747.8 ]\n",
      " [16159.71 16106.83]\n",
      " [24432.87 21335.85]\n",
      " [18688.28 18004.87]\n",
      " [19339.79 21698.01]\n",
      " [24564.47 16175.96]\n",
      " [22432.93 15053.93]\n",
      " [23404.85 27284.75]\n",
      " [18132.52 12234.89]\n",
      " [22256.77 30731.94]\n",
      " [38873.5  39713.67]\n",
      " [21163.79 29844.2 ]\n",
      " [21848.   16218.85]\n",
      " [30768.86 17322.08]\n",
      " [38155.66 41371.38]\n",
      " [32453.84 60567.55]\n",
      " [24453.76 15595.88]\n",
      " [11295.79 13991.04]\n",
      " [16794.01 23274.48]\n",
      " [24797.87 17458.22]\n",
      " [13580.93 15977.91]\n",
      " [18994.13 17158.92]\n",
      " [21218.59 27241.44]\n",
      " [18273.9  15128.99]\n",
      " [12838.73 13308.83]\n",
      " [23520.66 17316.1 ]\n",
      " [23047.17 33287.41]\n",
      " [19076.4  26060.34]\n",
      " [21974.23 17645.75]\n",
      " [17475.69 14642.32]\n",
      " [23128.72 18548.98]\n",
      " [35396.96 36332.89]\n",
      " [19563.8  21683.03]\n",
      " [28902.67 18040.14]\n",
      " [19390.27 17394.02]]\n"
     ]
    }
   ],
   "source": [
    "y_pred = regressor.predict(X_test)\n",
    "np.set_printoptions(precision=2)\n",
    "print(np.concatenate((y_pred.reshape(len(y_pred),1), y_test.reshape(len(y_test),1)),1))"
   ]
  },
  {
   "cell_type": "code",
   "execution_count": null,
   "metadata": {
    "colab": {
     "base_uri": "https://localhost:8080/"
    },
    "id": "yXbpmZokoism",
    "outputId": "ef5e24f4-6bc7-4b4e-cb48-6aa0953a3f95"
   },
   "outputs": [
    {
     "data": {
      "text/plain": [
       "0.4306685774802236"
      ]
     },
     "execution_count": 60,
     "metadata": {},
     "output_type": "execute_result"
    }
   ],
   "source": [
    "from sklearn.metrics import r2_score\n",
    "r2_score (y_test,y_pred)"
   ]
  },
  {
   "cell_type": "markdown",
   "metadata": {
    "id": "WA3-YdHZLybs"
   },
   "source": [
    "## Training the Random Forest Regression model on the Training set & Model Performance"
   ]
  },
  {
   "cell_type": "code",
   "execution_count": null,
   "metadata": {
    "colab": {
     "base_uri": "https://localhost:8080/"
    },
    "id": "4idOxN8oqj2h",
    "outputId": "76c3567c-cbce-49a7-da76-1d41cb964c95"
   },
   "outputs": [
    {
     "data": {
      "text/plain": [
       "RandomForestRegressor(n_estimators=10, random_state=0)"
      ]
     },
     "execution_count": 61,
     "metadata": {},
     "output_type": "execute_result"
    }
   ],
   "source": [
    "from sklearn.ensemble import RandomForestRegressor\n",
    "regressor = RandomForestRegressor(n_estimators = 10, random_state = 0)\n",
    "regressor.fit(X_train, y_train)"
   ]
  },
  {
   "cell_type": "code",
   "execution_count": null,
   "metadata": {
    "colab": {
     "base_uri": "https://localhost:8080/"
    },
    "id": "Pslkh1qGsCGb",
    "outputId": "f62aa460-7232-49da-fd0a-182ebf423f29"
   },
   "outputs": [
    {
     "name": "stdout",
     "output_type": "stream",
     "text": [
      "[[15897.47 14862.09]\n",
      " [16470.36 16256.24]\n",
      " [15758.25 15802.65]\n",
      " [39906.74 45061.95]\n",
      " [12206.31 12425.39]\n",
      " [27026.8  25618.28]\n",
      " [15041.87 15174.35]\n",
      " [26306.4  26012.37]\n",
      " [31843.89 33005.78]\n",
      " [68517.26 70755.47]\n",
      " [13836.18 13811.16]\n",
      " [20552.04 20839.15]\n",
      " [20316.35 19774.25]\n",
      " [32252.02 32746.13]\n",
      " [27499.16 25959.12]\n",
      " [16196.44 15724.25]\n",
      " [25902.12 24852.5 ]\n",
      " [21538.2  22004.93]\n",
      " [20468.91 20676.17]\n",
      " [15690.18 14398.92]\n",
      " [10166.38 10354.04]\n",
      " [12778.96 13106.9 ]\n",
      " [17950.32 19204.81]\n",
      " [20639.29 21562.05]\n",
      " [21131.61 20406.1 ]\n",
      " [19036.92 17768.06]\n",
      " [27583.71 26698.08]\n",
      " [16868.39 16345.94]\n",
      " [21927.84 19682.04]\n",
      " [10977.92 11472.02]\n",
      " [11108.26 10770.11]\n",
      " [11189.98 11615.02]\n",
      " [43954.46 43892.47]\n",
      " [30999.05 31002.73]\n",
      " [18989.99 20017.97]\n",
      " [25082.03 25508.21]\n",
      " [19130.16 18957.89]\n",
      " [17871.16 17202.83]\n",
      " [36601.85 35129.34]\n",
      " [21205.31 23547.24]\n",
      " [12149.88 11318.01]\n",
      " [19108.94 19446.88]\n",
      " [33380.94 31970.54]\n",
      " [15897.18 16300.47]\n",
      " [17803.11 19294.79]\n",
      " [11758.67 11464.63]\n",
      " [20587.58 20698.08]\n",
      " [13841.86 14077.97]\n",
      " [16060.25 16713.98]\n",
      " [ 8808.84  9482.22]\n",
      " [16678.43 15821.95]\n",
      " [13214.1  12507.49]\n",
      " [14212.   13681.7 ]\n",
      " [14092.66 13998.13]\n",
      " [19814.2  18910.8 ]\n",
      " [14109.86 14061.12]\n",
      " [39098.13 38600.24]\n",
      " [18689.46 17089.92]\n",
      " [14257.01 14894.98]\n",
      " [35889.66 35622.14]\n",
      " [13598.23 13072.84]\n",
      " [22508.3  21536.74]\n",
      " [38234.76 39547.59]\n",
      " [11258.35 11700.11]\n",
      " [31847.23 32197.34]\n",
      " [27544.2  27825.95]\n",
      " [19472.49 18173.98]\n",
      " [19171.56 18566.07]\n",
      " [20531.73 20221.81]\n",
      " [13712.63 13167.7 ]\n",
      " [25122.07 25996.81]\n",
      " [14560.71 15077.18]\n",
      " [19787.81 19409.75]\n",
      " [12307.99 13230.92]\n",
      " [40755.14 41419.04]\n",
      " [21556.98 22894.44]\n",
      " [17281.54 17542.04]\n",
      " [16906.98 15623.92]\n",
      " [22684.26 21607.77]\n",
      " [19198.4  17839.8 ]\n",
      " [29108.25 30075.99]\n",
      " [34395.86 34355.  ]\n",
      " [19321.08 20109.9 ]\n",
      " [13545.35 13744.85]\n",
      " [34975.58 37383.5 ]\n",
      " [10585.74 10971.1 ]\n",
      " [12822.27 12828.03]\n",
      " [16774.23 16456.97]\n",
      " [16783.93 15731.13]\n",
      " [27051.15 24405.07]\n",
      " [33278.87 30315.17]\n",
      " [23822.73 23249.84]\n",
      " [39613.95 38990.61]\n",
      " [34364.08 33358.77]\n",
      " [17035.01 16472.9 ]\n",
      " [15720.5  15730.05]\n",
      " [16567.31 15797.2 ]\n",
      " [12394.23 13159.82]\n",
      " [28741.44 29197.79]\n",
      " [18942.02 19448.23]\n",
      " [37654.55 39691.73]\n",
      " [28015.92 27425.84]\n",
      " [16496.88 15568.97]\n",
      " [22340.73 23578.16]\n",
      " [14111.38 14678.11]\n",
      " [12727.92 11699.03]\n",
      " [20343.45 21745.03]\n",
      " [16024.26 15967.25]\n",
      " [34386.   33586.91]\n",
      " [14111.38 14198.09]\n",
      " [18445.96 17808.2 ]\n",
      " [12723.66 12045.92]\n",
      " [29260.09 30800.66]\n",
      " [19487.   19075.68]\n",
      " [40170.56 41671.58]\n",
      " [13434.34 14185.02]\n",
      " [28015.92 29664.7 ]\n",
      " [20943.73 21908.37]\n",
      " [17875.34 17891.63]\n",
      " [13443.66 12791.75]\n",
      " [16114.06 16803.12]\n",
      " [31011.56 29595.79]\n",
      " [13291.82 13545.03]\n",
      " [19471.88 20902.1 ]\n",
      " [16531.42 15253.87]\n",
      " [17224.39 16516.96]\n",
      " [15460.14 15747.8 ]\n",
      " [16625.43 16106.83]\n",
      " [21182.06 21335.85]\n",
      " [17576.05 18004.87]\n",
      " [22334.42 21698.01]\n",
      " [16562.92 16175.96]\n",
      " [14352.19 15053.93]\n",
      " [27704.61 27284.75]\n",
      " [12053.56 12234.89]\n",
      " [33519.64 30731.94]\n",
      " [39613.95 39713.67]\n",
      " [28591.38 29844.2 ]\n",
      " [16422.1  16218.85]\n",
      " [18929.96 17322.08]\n",
      " [38803.22 41371.38]\n",
      " [61980.1  60567.55]\n",
      " [16371.13 15595.88]\n",
      " [14466.73 13991.04]\n",
      " [25419.22 23274.48]\n",
      " [17774.76 17458.22]\n",
      " [16699.73 15977.91]\n",
      " [17135.31 17158.92]\n",
      " [27583.71 27241.44]\n",
      " [14839.17 15128.99]\n",
      " [13235.33 13308.83]\n",
      " [17118.26 17316.1 ]\n",
      " [34019.32 33287.41]\n",
      " [25983.28 26060.34]\n",
      " [19062.73 17645.75]\n",
      " [14397.93 14642.32]\n",
      " [18701.88 18548.98]\n",
      " [34939.62 36332.89]\n",
      " [19961.02 21683.03]\n",
      " [20858.16 18040.14]\n",
      " [18089.73 17394.02]]\n"
     ]
    }
   ],
   "source": [
    "  y_pred = regressor.predict(X_test)\n",
    "print(np.concatenate((y_pred.reshape(len(y_pred),1), y_test.reshape(len(y_test),1)),1))"
   ]
  },
  {
   "cell_type": "code",
   "execution_count": null,
   "metadata": {
    "colab": {
     "base_uri": "https://localhost:8080/"
    },
    "id": "2LgEFsRgL6Vy",
    "outputId": "85f023b7-a608-443d-d55e-8cbc2f448fa7"
   },
   "outputs": [
    {
     "data": {
      "text/plain": [
       "0.9870591949254662"
      ]
     },
     "execution_count": 63,
     "metadata": {},
     "output_type": "execute_result"
    }
   ],
   "source": [
    "from sklearn.metrics import r2_score\n",
    "r2_score (y_test,y_pred)"
   ]
  }
 ],
 "metadata": {
  "colab": {
   "collapsed_sections": [
    "pOyqYHTk_Q57"
   ],
   "name": "Data processing.ipynb",
   "provenance": []
  },
  "kernelspec": {
   "display_name": "Python 3 (ipykernel)",
   "language": "python",
   "name": "python3"
  },
  "language_info": {
   "codemirror_mode": {
    "name": "ipython",
    "version": 3
   },
   "file_extension": ".py",
   "mimetype": "text/x-python",
   "name": "python",
   "nbconvert_exporter": "python",
   "pygments_lexer": "ipython3",
   "version": "3.9.12"
  }
 },
 "nbformat": 4,
 "nbformat_minor": 1
}
